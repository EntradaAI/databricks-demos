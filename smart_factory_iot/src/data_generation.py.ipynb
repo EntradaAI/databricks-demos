{
 "cells": [
  {
   "cell_type": "code",
   "execution_count": 0,
   "metadata": {
    "application/vnd.databricks.v1+cell": {
     "cellMetadata": {
      "byteLimit": 2048000,
      "rowLimit": 10000
     },
     "inputWidgets": {},
     "nuid": "c7fa8a75-ef9e-48e1-9a94-e822173f7dc5",
     "showTitle": false,
     "tableResultSettingsMap": {},
     "title": ""
    }
   },
   "outputs": [],
   "source": [
    "%pip install loguru --quiet"
   ]
  },
  {
   "cell_type": "code",
   "execution_count": 0,
   "metadata": {
    "application/vnd.databricks.v1+cell": {
     "cellMetadata": {
      "byteLimit": 2048000,
      "rowLimit": 10000
     },
     "inputWidgets": {},
     "nuid": "6083690c-6397-437a-b0a3-02a3937d48c6",
     "showTitle": false,
     "tableResultSettingsMap": {},
     "title": ""
    }
   },
   "outputs": [],
   "source": [
    "import json\n",
    "import random\n",
    "import time\n",
    "from datetime import datetime, timedelta\n",
    "from typing import Final\n",
    "from loguru import logger"
   ]
  },
  {
   "cell_type": "markdown",
   "metadata": {
    "application/vnd.databricks.v1+cell": {
     "cellMetadata": {
      "byteLimit": 2048000,
      "rowLimit": 10000
     },
     "inputWidgets": {},
     "nuid": "e6754681-775f-4f43-8dfe-73a9048e66a7",
     "showTitle": false,
     "tableResultSettingsMap": {},
     "title": ""
    }
   },
   "source": [
    "# --- Configuration ---\n",
    "##### IMPORTANT: Before the demo, replace this with your actual Volume path\n",
    "##### e.g., `/Volumes/catalog/schema/databricks-demo/iot_landing/`"
   ]
  },
  {
   "cell_type": "code",
   "execution_count": 0,
   "metadata": {
    "application/vnd.databricks.v1+cell": {
     "cellMetadata": {
      "byteLimit": 2048000,
      "rowLimit": 10000
     },
     "inputWidgets": {},
     "nuid": "df5eb533-523d-43a1-9164-7dd183bfea88",
     "showTitle": false,
     "tableResultSettingsMap": {},
     "title": ""
    }
   },
   "outputs": [],
   "source": [
    "dbutils.widgets.text(\n",
    "    \"landing_dir\",\n",
    "    \"/Volumes/demos/smart_factory/iot_landing\",\n",
    "    \"Volume where the IoT landing data will be written to\"\n",
    ")"
   ]
  },
  {
   "cell_type": "code",
   "execution_count": 0,
   "metadata": {
    "application/vnd.databricks.v1+cell": {
     "cellMetadata": {
      "byteLimit": 2048000,
      "rowLimit": 10000
     },
     "inputWidgets": {},
     "nuid": "69c0c016-8291-4484-99ff-ca536ca72501",
     "showTitle": false,
     "tableResultSettingsMap": {},
     "title": ""
    }
   },
   "outputs": [],
   "source": [
    "LANDING_ZONE_PATH: Final[str] = dbutils.widgets.get(\"landing_dir\")\n",
    "logger.info(f\"Landing directory set to: '{LANDING_ZONE_PATH}'\")\n",
    "dbutils.fs.mkdirs(LANDING_ZONE_PATH)"
   ]
  },
  {
   "cell_type": "markdown",
   "metadata": {
    "application/vnd.databricks.v1+cell": {
     "cellMetadata": {
      "byteLimit": 2048000,
      "rowLimit": 10000
     },
     "inputWidgets": {},
     "nuid": "112320e2-0f6d-407d-a56e-623c3ed73cd1",
     "showTitle": false,
     "tableResultSettingsMap": {},
     "title": ""
    }
   },
   "source": [
    "# --- Data Generation Logic ---"
   ]
  },
  {
   "cell_type": "code",
   "execution_count": 0,
   "metadata": {
    "application/vnd.databricks.v1+cell": {
     "cellMetadata": {
      "byteLimit": 2048000,
      "rowLimit": 10000
     },
     "inputWidgets": {},
     "nuid": "9df34bb4-1256-441d-b787-4f2dbe0e710e",
     "showTitle": false,
     "tableResultSettingsMap": {},
     "title": ""
    }
   },
   "outputs": [],
   "source": [
    "device_ids = [f\"MFG-A-{1000+i}\" for i in range(10)] + [f\"MFG-B-{2000+i}\" for i in range(5)]"
   ]
  },
  {
   "cell_type": "code",
   "execution_count": 0,
   "metadata": {
    "application/vnd.databricks.v1+cell": {
     "cellMetadata": {
      "byteLimit": 2048000,
      "rowLimit": 10000
     },
     "inputWidgets": {},
     "nuid": "c5f781f3-626a-4e15-92b5-c36004d7cc81",
     "showTitle": false,
     "tableResultSettingsMap": {},
     "title": ""
    }
   },
   "outputs": [],
   "source": [
    "def generate_sensor_reading(device_id):\n",
    "    \"\"\"Generates a single sensor reading.\"\"\"\n",
    "    # 95% of data is normal\n",
    "    if random.random() < 0.95:\n",
    "        temp = round(random.uniform(25.0, 35.0), 2)\n",
    "        vibration = round(random.uniform(0.1, 0.5), 4)\n",
    "    # 5% of data is anomalous (potential issue)\n",
    "    else:\n",
    "        temp = round(random.uniform(40.0, 45.0), 2)\n",
    "        vibration = round(random.uniform(0.5, 1.2), 4)\n",
    "\n",
    "    return {\n",
    "        \"device_id\": device_id,\n",
    "        \"timestamp\": (datetime.utcnow() - timedelta(seconds=random.randint(0, 60))).isoformat(),\n",
    "        \"temperature_celsius\": temp,\n",
    "        \"vibration_hz\": vibration,\n",
    "        \"location\": \"Factory Floor A\" if \"MFG-A\" in device_id else \"Factory Floor B\"\n",
    "    }"
   ]
  },
  {
   "cell_type": "code",
   "execution_count": 0,
   "metadata": {
    "application/vnd.databricks.v1+cell": {
     "cellMetadata": {
      "byteLimit": 2048000,
      "rowLimit": 10000
     },
     "inputWidgets": {},
     "nuid": "52424200-bcc7-44d1-9abd-5b871b8770f1",
     "showTitle": false,
     "tableResultSettingsMap": {},
     "title": ""
    }
   },
   "outputs": [],
   "source": [
    "def generate_and_save_batch(batch_size=100):\n",
    "    \"\"\"Generates a batch of data and saves it as a single JSON file.\"\"\"\n",
    "    data = [generate_sensor_reading(random.choice(device_ids)) for _ in range(batch_size)]\n",
    "    file_name = f\"sensor-batch-{int(time.time())}.json\"\n",
    "    file_path = f\"{LANDING_ZONE_PATH.rstrip('/')}/{file_name}\"\n",
    "\n",
    "    with open(file_path, \"w\") as f:\n",
    "        json.dump(data, f)\n",
    "    logger.info(f\"Generated batch of {len(data)} records to: {LANDING_ZONE_PATH}{file_name}\")"
   ]
  },
  {
   "cell_type": "markdown",
   "metadata": {
    "application/vnd.databricks.v1+cell": {
     "cellMetadata": {
      "byteLimit": 2048000,
      "rowLimit": 10000
     },
     "inputWidgets": {},
     "nuid": "810039cf-a307-469b-b0fe-780264e61424",
     "showTitle": false,
     "tableResultSettingsMap": {},
     "title": ""
    }
   },
   "source": [
    "# --- Generate Initial Data ---"
   ]
  },
  {
   "cell_type": "code",
   "execution_count": 0,
   "metadata": {
    "application/vnd.databricks.v1+cell": {
     "cellMetadata": {
      "byteLimit": 2048000,
      "rowLimit": 10000
     },
     "inputWidgets": {},
     "nuid": "b91ef8b1-01d1-48e0-b883-47e264219be0",
     "showTitle": false,
     "tableResultSettingsMap": {},
     "title": ""
    }
   },
   "outputs": [],
   "source": [
    "logger.info(f\"Generating data in: {LANDING_ZONE_PATH}\")\n",
    "logger.info(\"-\" * 30)\n",
    "for i in range(5):\n",
    "    generate_and_save_batch()\n",
    "    time.sleep(1)"
   ]
  },
  {
   "cell_type": "code",
   "execution_count": 0,
   "metadata": {
    "application/vnd.databricks.v1+cell": {
     "cellMetadata": {
      "byteLimit": 2048000,
      "rowLimit": 10000
     },
     "inputWidgets": {},
     "nuid": "d9a1bdff-79e3-4054-bd97-3e0b10f2088b",
     "showTitle": false,
     "tableResultSettingsMap": {},
     "title": ""
    }
   },
   "outputs": [],
   "source": [
    "logger.info(\"-\" * 30)\n",
    "logger.info(\"Listing files in landing zone:\")\n",
    "display(dbutils.fs.ls(LANDING_ZONE_PATH))"
   ]
  }
 ],
 "metadata": {
  "application/vnd.databricks.v1+notebook": {
   "computePreferences": null,
   "dashboards": [],
   "environmentMetadata": {
    "base_environment": "",
    "environment_version": "2"
   },
   "inputWidgetPreferences": null,
   "language": "python",
   "notebookMetadata": {
    "pythonIndentUnit": 4
   },
   "notebookName": "data_generation.py",
   "widgets": {
    "landing_dir": {
     "currentValue": "/Volumes/demos/smart_factory/iot_landing",
     "nuid": "e83da5c0-e6f5-44fc-81ce-8e21f6803ab1",
     "typedWidgetInfo": {
      "autoCreated": false,
      "defaultValue": "/Volumes/demos/smart_factory/iot_landing",
      "label": "Volume where the IoT landing data will be written to",
      "name": "landing_dir",
      "options": {
       "widgetDisplayType": "Text",
       "validationRegex": null
      },
      "parameterDataType": "String"
     },
     "widgetInfo": {
      "widgetType": "text",
      "defaultValue": "/Volumes/demos/smart_factory/iot_landing",
      "label": "Volume where the IoT landing data will be written to",
      "name": "landing_dir",
      "options": {
       "widgetType": "text",
       "autoCreated": null,
       "validationRegex": null
      }
     }
    }
   }
  },
  "language_info": {
   "name": "python"
  }
 },
 "nbformat": 4,
 "nbformat_minor": 0
}
